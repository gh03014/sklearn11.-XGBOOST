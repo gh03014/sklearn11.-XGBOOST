{
 "cells": [
  {
   "cell_type": "code",
   "execution_count": 1,
   "metadata": {},
   "outputs": [],
   "source": [
    "#정재환\n",
    "import pandas as pd\n",
    "import matplotlib as mpl\n",
    "import matplotlib.pyplot as plt\n",
    "from matplotlib.widgets import Button\n",
    "from matplotlib import font_manager, rc\n",
    "import numpy as np\n",
    "import csv\n",
    "import seaborn as sns\n",
    "from sklearn.preprocessing import MinMaxScaler, RobustScaler, StandardScaler\n",
    "from sklearn.model_selection import train_test_split\n",
    "from xgboost import XGBClassifier"
   ]
  },
  {
   "cell_type": "code",
   "execution_count": 2,
   "metadata": {},
   "outputs": [],
   "source": [
    "# 한글 폰트 적용 - 한글깨짐 방지\n",
    "font_name = font_manager.FontProperties(fname='c:/Windows/Fonts/malgun.ttf').get_name()\n",
    "rc('font', family=font_name)\n",
    "plt.rcParams['axes.unicode_minus'] = False"
   ]
  },
  {
   "cell_type": "code",
   "execution_count": 3,
   "metadata": {},
   "outputs": [
    {
     "data": {
      "text/html": [
       "<div>\n",
       "<style scoped>\n",
       "    .dataframe tbody tr th:only-of-type {\n",
       "        vertical-align: middle;\n",
       "    }\n",
       "\n",
       "    .dataframe tbody tr th {\n",
       "        vertical-align: top;\n",
       "    }\n",
       "\n",
       "    .dataframe thead th {\n",
       "        text-align: right;\n",
       "    }\n",
       "</style>\n",
       "<table border=\"1\" class=\"dataframe\">\n",
       "  <thead>\n",
       "    <tr style=\"text-align: right;\">\n",
       "      <th></th>\n",
       "      <th>Unnamed: 0</th>\n",
       "      <th>번호</th>\n",
       "      <th>성별</th>\n",
       "      <th>연령</th>\n",
       "      <th>신장</th>\n",
       "      <th>체중</th>\n",
       "      <th>허리둘레</th>\n",
       "      <th>수축기혈압</th>\n",
       "      <th>이완기혈압</th>\n",
       "      <th>식전혈당</th>\n",
       "      <th>총콜레스테롤</th>\n",
       "      <th>흡연상태</th>\n",
       "      <th>음주여부</th>\n",
       "    </tr>\n",
       "  </thead>\n",
       "  <tbody>\n",
       "    <tr>\n",
       "      <th>0</th>\n",
       "      <td>0</td>\n",
       "      <td>1</td>\n",
       "      <td>1</td>\n",
       "      <td>40</td>\n",
       "      <td>170</td>\n",
       "      <td>75</td>\n",
       "      <td>90.0</td>\n",
       "      <td>120.0</td>\n",
       "      <td>80.0</td>\n",
       "      <td>99.0</td>\n",
       "      <td>193.0</td>\n",
       "      <td>1.0</td>\n",
       "      <td>1.0</td>\n",
       "    </tr>\n",
       "    <tr>\n",
       "      <th>1</th>\n",
       "      <td>1</td>\n",
       "      <td>2</td>\n",
       "      <td>1</td>\n",
       "      <td>35</td>\n",
       "      <td>180</td>\n",
       "      <td>80</td>\n",
       "      <td>89.0</td>\n",
       "      <td>130.0</td>\n",
       "      <td>82.0</td>\n",
       "      <td>106.0</td>\n",
       "      <td>228.0</td>\n",
       "      <td>3.0</td>\n",
       "      <td>0.0</td>\n",
       "    </tr>\n",
       "    <tr>\n",
       "      <th>2</th>\n",
       "      <td>2</td>\n",
       "      <td>3</td>\n",
       "      <td>1</td>\n",
       "      <td>45</td>\n",
       "      <td>165</td>\n",
       "      <td>75</td>\n",
       "      <td>91.0</td>\n",
       "      <td>120.0</td>\n",
       "      <td>70.0</td>\n",
       "      <td>98.0</td>\n",
       "      <td>136.0</td>\n",
       "      <td>1.0</td>\n",
       "      <td>0.0</td>\n",
       "    </tr>\n",
       "    <tr>\n",
       "      <th>3</th>\n",
       "      <td>3</td>\n",
       "      <td>4</td>\n",
       "      <td>1</td>\n",
       "      <td>55</td>\n",
       "      <td>175</td>\n",
       "      <td>80</td>\n",
       "      <td>91.0</td>\n",
       "      <td>145.0</td>\n",
       "      <td>87.0</td>\n",
       "      <td>95.0</td>\n",
       "      <td>201.0</td>\n",
       "      <td>1.0</td>\n",
       "      <td>0.0</td>\n",
       "    </tr>\n",
       "    <tr>\n",
       "      <th>4</th>\n",
       "      <td>4</td>\n",
       "      <td>5</td>\n",
       "      <td>1</td>\n",
       "      <td>55</td>\n",
       "      <td>165</td>\n",
       "      <td>60</td>\n",
       "      <td>80.0</td>\n",
       "      <td>138.0</td>\n",
       "      <td>82.0</td>\n",
       "      <td>101.0</td>\n",
       "      <td>199.0</td>\n",
       "      <td>1.0</td>\n",
       "      <td>0.0</td>\n",
       "    </tr>\n",
       "    <tr>\n",
       "      <th>...</th>\n",
       "      <td>...</td>\n",
       "      <td>...</td>\n",
       "      <td>...</td>\n",
       "      <td>...</td>\n",
       "      <td>...</td>\n",
       "      <td>...</td>\n",
       "      <td>...</td>\n",
       "      <td>...</td>\n",
       "      <td>...</td>\n",
       "      <td>...</td>\n",
       "      <td>...</td>\n",
       "      <td>...</td>\n",
       "      <td>...</td>\n",
       "    </tr>\n",
       "    <tr>\n",
       "      <th>199772</th>\n",
       "      <td>199772</td>\n",
       "      <td>199996</td>\n",
       "      <td>1</td>\n",
       "      <td>45</td>\n",
       "      <td>170</td>\n",
       "      <td>100</td>\n",
       "      <td>107.0</td>\n",
       "      <td>135.0</td>\n",
       "      <td>88.0</td>\n",
       "      <td>112.0</td>\n",
       "      <td>247.0</td>\n",
       "      <td>3.0</td>\n",
       "      <td>1.0</td>\n",
       "    </tr>\n",
       "    <tr>\n",
       "      <th>199773</th>\n",
       "      <td>199773</td>\n",
       "      <td>199997</td>\n",
       "      <td>2</td>\n",
       "      <td>30</td>\n",
       "      <td>155</td>\n",
       "      <td>45</td>\n",
       "      <td>63.0</td>\n",
       "      <td>107.0</td>\n",
       "      <td>61.0</td>\n",
       "      <td>83.0</td>\n",
       "      <td>151.0</td>\n",
       "      <td>1.0</td>\n",
       "      <td>1.0</td>\n",
       "    </tr>\n",
       "    <tr>\n",
       "      <th>199774</th>\n",
       "      <td>199774</td>\n",
       "      <td>199998</td>\n",
       "      <td>1</td>\n",
       "      <td>55</td>\n",
       "      <td>160</td>\n",
       "      <td>70</td>\n",
       "      <td>91.0</td>\n",
       "      <td>100.0</td>\n",
       "      <td>76.0</td>\n",
       "      <td>100.0</td>\n",
       "      <td>222.0</td>\n",
       "      <td>1.0</td>\n",
       "      <td>0.0</td>\n",
       "    </tr>\n",
       "    <tr>\n",
       "      <th>199775</th>\n",
       "      <td>199775</td>\n",
       "      <td>199999</td>\n",
       "      <td>1</td>\n",
       "      <td>40</td>\n",
       "      <td>170</td>\n",
       "      <td>75</td>\n",
       "      <td>88.2</td>\n",
       "      <td>147.0</td>\n",
       "      <td>89.0</td>\n",
       "      <td>81.0</td>\n",
       "      <td>125.0</td>\n",
       "      <td>3.0</td>\n",
       "      <td>1.0</td>\n",
       "    </tr>\n",
       "    <tr>\n",
       "      <th>199776</th>\n",
       "      <td>199776</td>\n",
       "      <td>200000</td>\n",
       "      <td>1</td>\n",
       "      <td>60</td>\n",
       "      <td>165</td>\n",
       "      <td>60</td>\n",
       "      <td>83.0</td>\n",
       "      <td>112.0</td>\n",
       "      <td>66.0</td>\n",
       "      <td>104.0</td>\n",
       "      <td>212.0</td>\n",
       "      <td>3.0</td>\n",
       "      <td>0.0</td>\n",
       "    </tr>\n",
       "  </tbody>\n",
       "</table>\n",
       "<p>199777 rows × 13 columns</p>\n",
       "</div>"
      ],
      "text/plain": [
       "        Unnamed: 0      번호  성별  연령   신장   체중   허리둘레  수축기혈압  이완기혈압   식전혈당  \\\n",
       "0                0       1   1  40  170   75   90.0  120.0   80.0   99.0   \n",
       "1                1       2   1  35  180   80   89.0  130.0   82.0  106.0   \n",
       "2                2       3   1  45  165   75   91.0  120.0   70.0   98.0   \n",
       "3                3       4   1  55  175   80   91.0  145.0   87.0   95.0   \n",
       "4                4       5   1  55  165   60   80.0  138.0   82.0  101.0   \n",
       "...            ...     ...  ..  ..  ...  ...    ...    ...    ...    ...   \n",
       "199772      199772  199996   1  45  170  100  107.0  135.0   88.0  112.0   \n",
       "199773      199773  199997   2  30  155   45   63.0  107.0   61.0   83.0   \n",
       "199774      199774  199998   1  55  160   70   91.0  100.0   76.0  100.0   \n",
       "199775      199775  199999   1  40  170   75   88.2  147.0   89.0   81.0   \n",
       "199776      199776  200000   1  60  165   60   83.0  112.0   66.0  104.0   \n",
       "\n",
       "        총콜레스테롤  흡연상태  음주여부  \n",
       "0        193.0   1.0   1.0  \n",
       "1        228.0   3.0   0.0  \n",
       "2        136.0   1.0   0.0  \n",
       "3        201.0   1.0   0.0  \n",
       "4        199.0   1.0   0.0  \n",
       "...        ...   ...   ...  \n",
       "199772   247.0   3.0   1.0  \n",
       "199773   151.0   1.0   1.0  \n",
       "199774   222.0   1.0   0.0  \n",
       "199775   125.0   3.0   1.0  \n",
       "199776   212.0   3.0   0.0  \n",
       "\n",
       "[199777 rows x 13 columns]"
      ]
     },
     "execution_count": 3,
     "metadata": {},
     "output_type": "execute_result"
    }
   ],
   "source": [
    "# csv 파일 읽어와서 데이터프레임에 저장\n",
    "df_source = pd.read_csv('NHIS_OPEN_GJ_2017_3.csv', encoding='cp949')\n",
    "df_source = df_source.drop_duplicates() # 중복값 제거\n",
    "df_source = df_source.dropna() # 결측값 제거\n",
    "df_source"
   ]
  },
  {
   "cell_type": "code",
   "execution_count": 4,
   "metadata": {},
   "outputs": [],
   "source": [
    "x = df_source.drop(['성별', '번호', 'Unnamed: 0'], axis=1) # 성별특성을 제외한 모든 특성의 데이터\n",
    "y = df_source['성별']"
   ]
  },
  {
   "cell_type": "code",
   "execution_count": 5,
   "metadata": {},
   "outputs": [
    {
     "name": "stderr",
     "output_type": "stream",
     "text": [
      "c:\\users\\hwan\\appdata\\local\\programs\\python\\python36\\lib\\site-packages\\xgboost\\sklearn.py:888: UserWarning: The use of label encoder in XGBClassifier is deprecated and will be removed in a future release. To remove this warning, do the following: 1) Pass option use_label_encoder=False when constructing XGBClassifier object; and 2) Encode your labels (y) as integers starting with 0, i.e. 0, 1, 2, ..., [num_class - 1].\n",
      "  warnings.warn(label_encoder_deprecation_msg, UserWarning)\n"
     ]
    },
    {
     "name": "stdout",
     "output_type": "stream",
     "text": [
      "[17:38:32] WARNING: C:/Users/Administrator/workspace/xgboost-win64_release_1.3.0/src/learner.cc:541: \n",
      "Parameters: { n_estinators } might not be used.\n",
      "\n",
      "  This may not be accurate due to some parameters are only used in language bindings but\n",
      "  passed down to XGBoost core.  Or some parameters are not used but slip through this\n",
      "  verification. Please open an issue if you find above cases.\n",
      "\n",
      "\n",
      "[17:38:32] WARNING: C:/Users/Administrator/workspace/xgboost-win64_release_1.3.0/src/learner.cc:1061: Starting in XGBoost 1.3.0, the default evaluation metric used with the objective 'binary:logistic' was changed from 'error' to 'logloss'. Explicitly set eval_metric if you'd like to restore the old behavior.\n",
      "테스트 셋 정확도: 0.9326\n",
      "훈련 셋 정확도: 0.9409\n"
     ]
    }
   ],
   "source": [
    "# 훈련, 테스트 셋 분리\n",
    "# test_size=0.3으로 설정하여 훈련:테스트 비율을 7:3으로\n",
    "x_train, x_test, y_train, y_test = train_test_split(x, y, test_size=0.3, random_state=42)\n",
    "\n",
    "# n_estinators매개변수로 군집수를 100으로 설정\n",
    "xgb = XGBClassifier(n_estinators=100) # xgboost 모델 생성\n",
    "xgb = xgb.fit(x_train, y_train)\n",
    "\n",
    "# 테스트 셋 정확도 \n",
    "accuracy = float(xgb.score(x_test, y_test))\n",
    "print('테스트 셋 정확도: %.4f' %accuracy)\n",
    "\n",
    "# 훈련 셋 정확도 \n",
    "accuracy = float(xgb.score(x_train, y_train))\n",
    "print('훈련 셋 정확도: %.4f' %accuracy)"
   ]
  },
  {
   "cell_type": "code",
   "execution_count": 6,
   "metadata": {},
   "outputs": [],
   "source": [
    "# 테스트 셋 에서는 93%, 훈련 셋 에서는 94%의 정확도가 나타난다"
   ]
  },
  {
   "cell_type": "code",
   "execution_count": 7,
   "metadata": {
    "scrolled": true
   },
   "outputs": [
    {
     "name": "stdout",
     "output_type": "stream",
     "text": [
      "( 0) Feature : 연령, 0.033661\n",
      "( 1) Feature : 신장, 0.565439\n",
      "( 2) Feature : 체중, 0.016018\n",
      "( 3) Feature : 허리둘레, 0.026227\n",
      "( 4) Feature : 수축기혈압, 0.005974\n",
      "( 5) Feature : 이완기혈압, 0.004733\n",
      "( 6) Feature : 식전혈당, 0.003906\n",
      "( 7) Feature : 총콜레스테롤, 0.005177\n",
      "( 8) Feature : 흡연상태, 0.312890\n",
      "( 9) Feature : 음주여부, 0.025975\n"
     ]
    }
   ],
   "source": [
    "# 각 특성별 확률값(중요도) 출력\n",
    "feature_name_list = x_train.columns\n",
    "df_feature_importance = xgb.feature_importances_\n",
    "for i,v in enumerate(df_feature_importance):\n",
    "    print('(%2d) Feature : %s, %5f' %(i, feature_name_list[i], v))"
   ]
  },
  {
   "cell_type": "code",
   "execution_count": 8,
   "metadata": {},
   "outputs": [
    {
     "data": {
      "text/html": [
       "<div>\n",
       "<style scoped>\n",
       "    .dataframe tbody tr th:only-of-type {\n",
       "        vertical-align: middle;\n",
       "    }\n",
       "\n",
       "    .dataframe tbody tr th {\n",
       "        vertical-align: top;\n",
       "    }\n",
       "\n",
       "    .dataframe thead th {\n",
       "        text-align: right;\n",
       "    }\n",
       "</style>\n",
       "<table border=\"1\" class=\"dataframe\">\n",
       "  <thead>\n",
       "    <tr style=\"text-align: right;\">\n",
       "      <th></th>\n",
       "      <th>feature</th>\n",
       "      <th>importance</th>\n",
       "    </tr>\n",
       "  </thead>\n",
       "  <tbody>\n",
       "    <tr>\n",
       "      <th>1</th>\n",
       "      <td>신장</td>\n",
       "      <td>0.565439</td>\n",
       "    </tr>\n",
       "    <tr>\n",
       "      <th>8</th>\n",
       "      <td>흡연상태</td>\n",
       "      <td>0.312890</td>\n",
       "    </tr>\n",
       "    <tr>\n",
       "      <th>0</th>\n",
       "      <td>연령</td>\n",
       "      <td>0.033661</td>\n",
       "    </tr>\n",
       "    <tr>\n",
       "      <th>3</th>\n",
       "      <td>허리둘레</td>\n",
       "      <td>0.026227</td>\n",
       "    </tr>\n",
       "    <tr>\n",
       "      <th>9</th>\n",
       "      <td>음주여부</td>\n",
       "      <td>0.025975</td>\n",
       "    </tr>\n",
       "    <tr>\n",
       "      <th>2</th>\n",
       "      <td>체중</td>\n",
       "      <td>0.016018</td>\n",
       "    </tr>\n",
       "    <tr>\n",
       "      <th>4</th>\n",
       "      <td>수축기혈압</td>\n",
       "      <td>0.005974</td>\n",
       "    </tr>\n",
       "    <tr>\n",
       "      <th>7</th>\n",
       "      <td>총콜레스테롤</td>\n",
       "      <td>0.005177</td>\n",
       "    </tr>\n",
       "    <tr>\n",
       "      <th>5</th>\n",
       "      <td>이완기혈압</td>\n",
       "      <td>0.004733</td>\n",
       "    </tr>\n",
       "    <tr>\n",
       "      <th>6</th>\n",
       "      <td>식전혈당</td>\n",
       "      <td>0.003906</td>\n",
       "    </tr>\n",
       "  </tbody>\n",
       "</table>\n",
       "</div>"
      ],
      "text/plain": [
       "  feature  importance\n",
       "1      신장    0.565439\n",
       "8    흡연상태    0.312890\n",
       "0      연령    0.033661\n",
       "3    허리둘레    0.026227\n",
       "9    음주여부    0.025975\n",
       "2      체중    0.016018\n",
       "4   수축기혈압    0.005974\n",
       "7  총콜레스테롤    0.005177\n",
       "5   이완기혈압    0.004733\n",
       "6    식전혈당    0.003906"
      ]
     },
     "execution_count": 8,
     "metadata": {},
     "output_type": "execute_result"
    }
   ],
   "source": [
    "#각 특성을 확률값이 큰 순서로 정렬\n",
    "df_importance = pd.DataFrame({'feature' : x_train.columns, 'importance' : xgb.feature_importances_})\n",
    "df_importance = df_importance.sort_values(by='importance', ascending=False)\n",
    "df_importance.head(10)"
   ]
  },
  {
   "cell_type": "code",
   "execution_count": 9,
   "metadata": {},
   "outputs": [],
   "source": [
    "# 신장, 흡연상태, 연령 등의 순서로 높은 확률값을 나타낸다"
   ]
  },
  {
   "cell_type": "code",
   "execution_count": 10,
   "metadata": {},
   "outputs": [],
   "source": [
    "del xgb, x_train, y_train, x_test, y_test"
   ]
  },
  {
   "cell_type": "code",
   "execution_count": 11,
   "metadata": {},
   "outputs": [],
   "source": [
    "# 이번에는 n_estinators를 2로 설정하여 실행"
   ]
  },
  {
   "cell_type": "code",
   "execution_count": 12,
   "metadata": {},
   "outputs": [
    {
     "name": "stderr",
     "output_type": "stream",
     "text": [
      "c:\\users\\hwan\\appdata\\local\\programs\\python\\python36\\lib\\site-packages\\xgboost\\sklearn.py:888: UserWarning: The use of label encoder in XGBClassifier is deprecated and will be removed in a future release. To remove this warning, do the following: 1) Pass option use_label_encoder=False when constructing XGBClassifier object; and 2) Encode your labels (y) as integers starting with 0, i.e. 0, 1, 2, ..., [num_class - 1].\n",
      "  warnings.warn(label_encoder_deprecation_msg, UserWarning)\n"
     ]
    },
    {
     "name": "stdout",
     "output_type": "stream",
     "text": [
      "[17:38:56] WARNING: C:/Users/Administrator/workspace/xgboost-win64_release_1.3.0/src/learner.cc:541: \n",
      "Parameters: { n_estinators } might not be used.\n",
      "\n",
      "  This may not be accurate due to some parameters are only used in language bindings but\n",
      "  passed down to XGBoost core.  Or some parameters are not used but slip through this\n",
      "  verification. Please open an issue if you find above cases.\n",
      "\n",
      "\n",
      "[17:38:56] WARNING: C:/Users/Administrator/workspace/xgboost-win64_release_1.3.0/src/learner.cc:1061: Starting in XGBoost 1.3.0, the default evaluation metric used with the objective 'binary:logistic' was changed from 'error' to 'logloss'. Explicitly set eval_metric if you'd like to restore the old behavior.\n",
      "테스트 셋 정확도: 0.9326\n",
      "훈련 셋 정확도: 0.9409\n"
     ]
    }
   ],
   "source": [
    "# 훈련, 테스트 셋 분리\n",
    "# test_size=0.3으로 설정하여 훈련:테스트 비율을 7:3으로\n",
    "x_train, x_test, y_train, y_test = train_test_split(x, y, test_size=0.3, random_state=42)\n",
    "\n",
    "# n_estinators매개변수로 군집수를 2으로 설정\n",
    "xgb = XGBClassifier(n_estinators=2) # xgboost 모델 생성\n",
    "xgb = xgb.fit(x_train, y_train)\n",
    "\n",
    "# 테스트 셋 정확도 \n",
    "accuracy = float(xgb.score(x_test, y_test))\n",
    "print('테스트 셋 정확도: %.4f' %accuracy)\n",
    "\n",
    "# 훈련 셋 정확도 \n",
    "accuracy = float(xgb.score(x_train, y_train))\n",
    "print('훈련 셋 정확도: %.4f' %accuracy)"
   ]
  },
  {
   "cell_type": "code",
   "execution_count": 13,
   "metadata": {},
   "outputs": [],
   "source": [
    "#기존에 n_estinators를 100으로 설정했을 때와 결과가 거의 같다"
   ]
  },
  {
   "cell_type": "code",
   "execution_count": 14,
   "metadata": {},
   "outputs": [],
   "source": [
    "del xgb, x_train, y_train, x_test, y_test"
   ]
  },
  {
   "cell_type": "code",
   "execution_count": 15,
   "metadata": {},
   "outputs": [],
   "source": [
    "#이번에는 데이터를 표준화 하고 xgboost 알고리즘을 실행해보자"
   ]
  },
  {
   "cell_type": "code",
   "execution_count": 16,
   "metadata": {},
   "outputs": [],
   "source": [
    "x_train, x_test, y_train, y_test = train_test_split(x, y, test_size=0.3, random_state=42)\n",
    "\n",
    "# 표준화 전처리 적용\n",
    "scaler = StandardScaler()\n",
    "scaler.fit(x_train)\n",
    "x_train_scaler = scaler.transform(x_train)\n",
    "x_train_scaler = pd.DataFrame(x_train_scaler, columns = x_train.columns) # 표준화를 적용한 이후 다시 컬럼명을 지정해야 한다 \n",
    "\n",
    "del scaler\n",
    "scaler = StandardScaler()\n",
    "scaler.fit(x_test)\n",
    "x_test_scaler = scaler.transform(x_test)\n",
    "x_test_scaler = pd.DataFrame(x_test_scaler, columns = x_test.columns)"
   ]
  },
  {
   "cell_type": "code",
   "execution_count": 17,
   "metadata": {},
   "outputs": [
    {
     "name": "stderr",
     "output_type": "stream",
     "text": [
      "c:\\users\\hwan\\appdata\\local\\programs\\python\\python36\\lib\\site-packages\\xgboost\\sklearn.py:888: UserWarning: The use of label encoder in XGBClassifier is deprecated and will be removed in a future release. To remove this warning, do the following: 1) Pass option use_label_encoder=False when constructing XGBClassifier object; and 2) Encode your labels (y) as integers starting with 0, i.e. 0, 1, 2, ..., [num_class - 1].\n",
      "  warnings.warn(label_encoder_deprecation_msg, UserWarning)\n"
     ]
    },
    {
     "name": "stdout",
     "output_type": "stream",
     "text": [
      "[17:39:10] WARNING: C:/Users/Administrator/workspace/xgboost-win64_release_1.3.0/src/learner.cc:541: \n",
      "Parameters: { n_estinators } might not be used.\n",
      "\n",
      "  This may not be accurate due to some parameters are only used in language bindings but\n",
      "  passed down to XGBoost core.  Or some parameters are not used but slip through this\n",
      "  verification. Please open an issue if you find above cases.\n",
      "\n",
      "\n",
      "[17:39:10] WARNING: C:/Users/Administrator/workspace/xgboost-win64_release_1.3.0/src/learner.cc:1061: Starting in XGBoost 1.3.0, the default evaluation metric used with the objective 'binary:logistic' was changed from 'error' to 'logloss'. Explicitly set eval_metric if you'd like to restore the old behavior.\n",
      "테스트 셋 정확도: 0.9325\n",
      "훈련 셋 정확도: 0.9409\n"
     ]
    }
   ],
   "source": [
    "# n_estinators매개변수로 군집수를 100으로 설정\n",
    "xgb = XGBClassifier(n_estinators=100) # xgboost 모델 생성\n",
    "xgb = xgb.fit(x_train_scaler, y_train)\n",
    "\n",
    "# 테스트 셋 정확도 \n",
    "accuracy = float(xgb.score(x_test_scaler, y_test))\n",
    "print('테스트 셋 정확도: %.4f' %accuracy)\n",
    "\n",
    "# 훈련 셋 정확도 \n",
    "accuracy = float(xgb.score(x_train_scaler, y_train))\n",
    "print('훈련 셋 정확도: %.4f' %accuracy)"
   ]
  },
  {
   "cell_type": "code",
   "execution_count": 18,
   "metadata": {},
   "outputs": [],
   "source": [
    "#표준화를 했을 떄의 결과는 이전과 거의 차이가 없다"
   ]
  },
  {
   "cell_type": "code",
   "execution_count": 19,
   "metadata": {},
   "outputs": [],
   "source": [
    "del xgb, x_train, y_train, x_test, y_test"
   ]
  },
  {
   "cell_type": "code",
   "execution_count": 20,
   "metadata": {},
   "outputs": [],
   "source": [
    "#이번에는 노드의 최대깊이를 3으로 설정했들 때의 결과를 확인해보자"
   ]
  },
  {
   "cell_type": "code",
   "execution_count": 21,
   "metadata": {},
   "outputs": [
    {
     "name": "stdout",
     "output_type": "stream",
     "text": [
      "[17:41:31] WARNING: C:/Users/Administrator/workspace/xgboost-win64_release_1.3.0/src/learner.cc:541: \n",
      "Parameters: { n_estinators } might not be used.\n",
      "\n",
      "  This may not be accurate due to some parameters are only used in language bindings but\n",
      "  passed down to XGBoost core.  Or some parameters are not used but slip through this\n",
      "  verification. Please open an issue if you find above cases.\n",
      "\n",
      "\n",
      "[17:41:31] WARNING: C:/Users/Administrator/workspace/xgboost-win64_release_1.3.0/src/learner.cc:1061: Starting in XGBoost 1.3.0, the default evaluation metric used with the objective 'binary:logistic' was changed from 'error' to 'logloss'. Explicitly set eval_metric if you'd like to restore the old behavior.\n",
      "테스트 셋 정확도: 0.9320\n",
      "훈련 셋 정확도: 0.9333\n"
     ]
    }
   ],
   "source": [
    "# 훈련, 테스트 셋 분리\n",
    "# test_size=0.3으로 설정하여 훈련:테스트 비율을 7:3으로\n",
    "x_train, x_test, y_train, y_test = train_test_split(x, y, test_size=0.3, random_state=42)\n",
    "\n",
    "# n_estinators매개변수로 군집수를 100으로 설정\n",
    "#노드의 최대 깊이(max_depth)를 3으로 설정\n",
    "xgb = XGBClassifier(n_estinators=100, max_depth=3) # xgboost 모델 생성\n",
    "xgb = xgb.fit(x_train, y_train)\n",
    "\n",
    "# 테스트 셋 정확도 \n",
    "accuracy = float(xgb.score(x_test, y_test))\n",
    "print('테스트 셋 정확도: %.4f' %accuracy)\n",
    "\n",
    "# 훈련 셋 정확도 \n",
    "accuracy = float(xgb.score(x_train, y_train))\n",
    "print('훈련 셋 정확도: %.4f' %accuracy)"
   ]
  },
  {
   "cell_type": "code",
   "execution_count": 23,
   "metadata": {},
   "outputs": [],
   "source": [
    "# 테스트셋 정확도가 93%로 기존에 비해 1% 정도 감소하였다"
   ]
  },
  {
   "cell_type": "code",
   "execution_count": 24,
   "metadata": {},
   "outputs": [
    {
     "name": "stdout",
     "output_type": "stream",
     "text": [
      "( 0) Feature : 연령, 0.039096\n",
      "( 1) Feature : 신장, 0.474767\n",
      "( 2) Feature : 체중, 0.024714\n",
      "( 3) Feature : 허리둘레, 0.069104\n",
      "( 4) Feature : 수축기혈압, 0.012250\n",
      "( 5) Feature : 이완기혈압, 0.006712\n",
      "( 6) Feature : 식전혈당, 0.004806\n",
      "( 7) Feature : 총콜레스테롤, 0.007326\n",
      "( 8) Feature : 흡연상태, 0.322111\n",
      "( 9) Feature : 음주여부, 0.039112\n"
     ]
    },
    {
     "data": {
      "text/html": [
       "<div>\n",
       "<style scoped>\n",
       "    .dataframe tbody tr th:only-of-type {\n",
       "        vertical-align: middle;\n",
       "    }\n",
       "\n",
       "    .dataframe tbody tr th {\n",
       "        vertical-align: top;\n",
       "    }\n",
       "\n",
       "    .dataframe thead th {\n",
       "        text-align: right;\n",
       "    }\n",
       "</style>\n",
       "<table border=\"1\" class=\"dataframe\">\n",
       "  <thead>\n",
       "    <tr style=\"text-align: right;\">\n",
       "      <th></th>\n",
       "      <th>feature</th>\n",
       "      <th>importance</th>\n",
       "    </tr>\n",
       "  </thead>\n",
       "  <tbody>\n",
       "    <tr>\n",
       "      <th>1</th>\n",
       "      <td>신장</td>\n",
       "      <td>0.474767</td>\n",
       "    </tr>\n",
       "    <tr>\n",
       "      <th>8</th>\n",
       "      <td>흡연상태</td>\n",
       "      <td>0.322111</td>\n",
       "    </tr>\n",
       "    <tr>\n",
       "      <th>3</th>\n",
       "      <td>허리둘레</td>\n",
       "      <td>0.069104</td>\n",
       "    </tr>\n",
       "    <tr>\n",
       "      <th>9</th>\n",
       "      <td>음주여부</td>\n",
       "      <td>0.039112</td>\n",
       "    </tr>\n",
       "    <tr>\n",
       "      <th>0</th>\n",
       "      <td>연령</td>\n",
       "      <td>0.039096</td>\n",
       "    </tr>\n",
       "    <tr>\n",
       "      <th>2</th>\n",
       "      <td>체중</td>\n",
       "      <td>0.024714</td>\n",
       "    </tr>\n",
       "    <tr>\n",
       "      <th>4</th>\n",
       "      <td>수축기혈압</td>\n",
       "      <td>0.012250</td>\n",
       "    </tr>\n",
       "    <tr>\n",
       "      <th>7</th>\n",
       "      <td>총콜레스테롤</td>\n",
       "      <td>0.007326</td>\n",
       "    </tr>\n",
       "    <tr>\n",
       "      <th>5</th>\n",
       "      <td>이완기혈압</td>\n",
       "      <td>0.006712</td>\n",
       "    </tr>\n",
       "    <tr>\n",
       "      <th>6</th>\n",
       "      <td>식전혈당</td>\n",
       "      <td>0.004806</td>\n",
       "    </tr>\n",
       "  </tbody>\n",
       "</table>\n",
       "</div>"
      ],
      "text/plain": [
       "  feature  importance\n",
       "1      신장    0.474767\n",
       "8    흡연상태    0.322111\n",
       "3    허리둘레    0.069104\n",
       "9    음주여부    0.039112\n",
       "0      연령    0.039096\n",
       "2      체중    0.024714\n",
       "4   수축기혈압    0.012250\n",
       "7  총콜레스테롤    0.007326\n",
       "5   이완기혈압    0.006712\n",
       "6    식전혈당    0.004806"
      ]
     },
     "execution_count": 24,
     "metadata": {},
     "output_type": "execute_result"
    }
   ],
   "source": [
    "# 각 특성별 확률값(중요도) 출력\n",
    "feature_name_list = x_train.columns\n",
    "df_feature_importance = xgb.feature_importances_\n",
    "for i,v in enumerate(df_feature_importance):\n",
    "    print('(%2d) Feature : %s, %5f' %(i, feature_name_list[i], v))\n",
    "#각 특성을 확률값이 큰 순서로 정렬\n",
    "df_importance = pd.DataFrame({'feature' : x_train.columns, 'importance' : xgb.feature_importances_})\n",
    "df_importance = df_importance.sort_values(by='importance', ascending=False)\n",
    "df_importance.head(10)"
   ]
  },
  {
   "cell_type": "code",
   "execution_count": 25,
   "metadata": {},
   "outputs": [],
   "source": [
    "#기존에 비해 허리둘레 요소의 확률값이 더 증가하였다"
   ]
  },
  {
   "cell_type": "code",
   "execution_count": 26,
   "metadata": {},
   "outputs": [],
   "source": [
    "del xgb, x_train, y_train, x_test, y_test"
   ]
  },
  {
   "cell_type": "code",
   "execution_count": 27,
   "metadata": {},
   "outputs": [],
   "source": [
    "#이번에는 노드의 최대깊이를 10으로 설정했들 때의 결과를 확인해보자"
   ]
  },
  {
   "cell_type": "code",
   "execution_count": 28,
   "metadata": {},
   "outputs": [
    {
     "name": "stderr",
     "output_type": "stream",
     "text": [
      "c:\\users\\hwan\\appdata\\local\\programs\\python\\python36\\lib\\site-packages\\xgboost\\sklearn.py:888: UserWarning: The use of label encoder in XGBClassifier is deprecated and will be removed in a future release. To remove this warning, do the following: 1) Pass option use_label_encoder=False when constructing XGBClassifier object; and 2) Encode your labels (y) as integers starting with 0, i.e. 0, 1, 2, ..., [num_class - 1].\n",
      "  warnings.warn(label_encoder_deprecation_msg, UserWarning)\n"
     ]
    },
    {
     "name": "stdout",
     "output_type": "stream",
     "text": [
      "[17:45:09] WARNING: C:/Users/Administrator/workspace/xgboost-win64_release_1.3.0/src/learner.cc:541: \n",
      "Parameters: { n_estinators } might not be used.\n",
      "\n",
      "  This may not be accurate due to some parameters are only used in language bindings but\n",
      "  passed down to XGBoost core.  Or some parameters are not used but slip through this\n",
      "  verification. Please open an issue if you find above cases.\n",
      "\n",
      "\n",
      "[17:45:09] WARNING: C:/Users/Administrator/workspace/xgboost-win64_release_1.3.0/src/learner.cc:1061: Starting in XGBoost 1.3.0, the default evaluation metric used with the objective 'binary:logistic' was changed from 'error' to 'logloss'. Explicitly set eval_metric if you'd like to restore the old behavior.\n",
      "테스트 셋 정확도: 0.9283\n",
      "훈련 셋 정확도: 0.9721\n"
     ]
    }
   ],
   "source": [
    "# 훈련, 테스트 셋 분리\n",
    "# test_size=0.3으로 설정하여 훈련:테스트 비율을 7:3으로\n",
    "x_train, x_test, y_train, y_test = train_test_split(x, y, test_size=0.3, random_state=42)\n",
    "\n",
    "# n_estinators매개변수로 군집수를 100으로 설정\n",
    "#노드의 최대 깊이(max_depth)를 10으로 설정\n",
    "xgb = XGBClassifier(n_estinators=100, max_depth=10) # xgboost 모델 생성\n",
    "xgb = xgb.fit(x_train, y_train)\n",
    "\n",
    "# 테스트 셋 정확도 \n",
    "accuracy = float(xgb.score(x_test, y_test))\n",
    "print('테스트 셋 정확도: %.4f' %accuracy)\n",
    "\n",
    "# 훈련 셋 정확도 \n",
    "accuracy = float(xgb.score(x_train, y_train))\n",
    "print('훈련 셋 정확도: %.4f' %accuracy)"
   ]
  },
  {
   "cell_type": "code",
   "execution_count": 29,
   "metadata": {},
   "outputs": [],
   "source": [
    "# 기존에 비해 테스트 셋 정확도는 감소하고 훈련셋 정확도는 증가하였다"
   ]
  },
  {
   "cell_type": "code",
   "execution_count": 30,
   "metadata": {},
   "outputs": [],
   "source": [
    "del xgb, x_train, y_train, x_test, y_test"
   ]
  },
  {
   "cell_type": "code",
   "execution_count": 31,
   "metadata": {},
   "outputs": [],
   "source": [
    "# 이번에는 learning_rate를 설정하여 가중치 적용 비율을 설정한다\n",
    "# learning_rate값이 작을수록 가중치를 적게 반영한다"
   ]
  },
  {
   "cell_type": "code",
   "execution_count": 32,
   "metadata": {},
   "outputs": [
    {
     "name": "stdout",
     "output_type": "stream",
     "text": [
      "[17:55:39] WARNING: C:/Users/Administrator/workspace/xgboost-win64_release_1.3.0/src/learner.cc:541: \n",
      "Parameters: { n_estinators } might not be used.\n",
      "\n",
      "  This may not be accurate due to some parameters are only used in language bindings but\n",
      "  passed down to XGBoost core.  Or some parameters are not used but slip through this\n",
      "  verification. Please open an issue if you find above cases.\n",
      "\n",
      "\n",
      "[17:55:39] WARNING: C:/Users/Administrator/workspace/xgboost-win64_release_1.3.0/src/learner.cc:1061: Starting in XGBoost 1.3.0, the default evaluation metric used with the objective 'binary:logistic' was changed from 'error' to 'logloss'. Explicitly set eval_metric if you'd like to restore the old behavior.\n",
      "테스트 셋 정확도: 0.9323\n",
      "훈련 셋 정확도: 0.9354\n"
     ]
    }
   ],
   "source": [
    "# 훈련, 테스트 셋 분리\n",
    "# test_size=0.3으로 설정하여 훈련:테스트 비율을 7:3으로\n",
    "x_train, x_test, y_train, y_test = train_test_split(x, y, test_size=0.3, random_state=42)\n",
    "\n",
    "# n_estinators매개변수로 군집수를 100으로 설정\n",
    "#learning_rate를 0.1로 설정\n",
    "xgb = XGBClassifier(n_estinators=100, learning_rate=0.1) # xgboost 모델 생성\n",
    "xgb = xgb.fit(x_train, y_train)\n",
    "\n",
    "# 테스트 셋 정확도 \n",
    "accuracy = float(xgb.score(x_test, y_test))\n",
    "print('테스트 셋 정확도: %.4f' %accuracy)\n",
    "\n",
    "# 훈련 셋 정확도 \n",
    "accuracy = float(xgb.score(x_train, y_train))\n",
    "print('훈련 셋 정확도: %.4f' %accuracy)"
   ]
  },
  {
   "cell_type": "code",
   "execution_count": 33,
   "metadata": {},
   "outputs": [
    {
     "name": "stdout",
     "output_type": "stream",
     "text": [
      "( 0) Feature : 연령, 0.034149\n",
      "( 1) Feature : 신장, 0.502413\n",
      "( 2) Feature : 체중, 0.021256\n",
      "( 3) Feature : 허리둘레, 0.037459\n",
      "( 4) Feature : 수축기혈압, 0.007768\n",
      "( 5) Feature : 이완기혈압, 0.006149\n",
      "( 6) Feature : 식전혈당, 0.004257\n",
      "( 7) Feature : 총콜레스테롤, 0.005850\n",
      "( 8) Feature : 흡연상태, 0.357791\n",
      "( 9) Feature : 음주여부, 0.022907\n"
     ]
    },
    {
     "data": {
      "text/html": [
       "<div>\n",
       "<style scoped>\n",
       "    .dataframe tbody tr th:only-of-type {\n",
       "        vertical-align: middle;\n",
       "    }\n",
       "\n",
       "    .dataframe tbody tr th {\n",
       "        vertical-align: top;\n",
       "    }\n",
       "\n",
       "    .dataframe thead th {\n",
       "        text-align: right;\n",
       "    }\n",
       "</style>\n",
       "<table border=\"1\" class=\"dataframe\">\n",
       "  <thead>\n",
       "    <tr style=\"text-align: right;\">\n",
       "      <th></th>\n",
       "      <th>feature</th>\n",
       "      <th>importance</th>\n",
       "    </tr>\n",
       "  </thead>\n",
       "  <tbody>\n",
       "    <tr>\n",
       "      <th>1</th>\n",
       "      <td>신장</td>\n",
       "      <td>0.502413</td>\n",
       "    </tr>\n",
       "    <tr>\n",
       "      <th>8</th>\n",
       "      <td>흡연상태</td>\n",
       "      <td>0.357791</td>\n",
       "    </tr>\n",
       "    <tr>\n",
       "      <th>3</th>\n",
       "      <td>허리둘레</td>\n",
       "      <td>0.037459</td>\n",
       "    </tr>\n",
       "    <tr>\n",
       "      <th>0</th>\n",
       "      <td>연령</td>\n",
       "      <td>0.034149</td>\n",
       "    </tr>\n",
       "    <tr>\n",
       "      <th>9</th>\n",
       "      <td>음주여부</td>\n",
       "      <td>0.022907</td>\n",
       "    </tr>\n",
       "    <tr>\n",
       "      <th>2</th>\n",
       "      <td>체중</td>\n",
       "      <td>0.021256</td>\n",
       "    </tr>\n",
       "    <tr>\n",
       "      <th>4</th>\n",
       "      <td>수축기혈압</td>\n",
       "      <td>0.007768</td>\n",
       "    </tr>\n",
       "    <tr>\n",
       "      <th>5</th>\n",
       "      <td>이완기혈압</td>\n",
       "      <td>0.006149</td>\n",
       "    </tr>\n",
       "    <tr>\n",
       "      <th>7</th>\n",
       "      <td>총콜레스테롤</td>\n",
       "      <td>0.005850</td>\n",
       "    </tr>\n",
       "    <tr>\n",
       "      <th>6</th>\n",
       "      <td>식전혈당</td>\n",
       "      <td>0.004257</td>\n",
       "    </tr>\n",
       "  </tbody>\n",
       "</table>\n",
       "</div>"
      ],
      "text/plain": [
       "  feature  importance\n",
       "1      신장    0.502413\n",
       "8    흡연상태    0.357791\n",
       "3    허리둘레    0.037459\n",
       "0      연령    0.034149\n",
       "9    음주여부    0.022907\n",
       "2      체중    0.021256\n",
       "4   수축기혈압    0.007768\n",
       "5   이완기혈압    0.006149\n",
       "7  총콜레스테롤    0.005850\n",
       "6    식전혈당    0.004257"
      ]
     },
     "execution_count": 33,
     "metadata": {},
     "output_type": "execute_result"
    }
   ],
   "source": [
    "# 각 특성별 확률값(중요도) 출력\n",
    "feature_name_list = x_train.columns\n",
    "df_feature_importance = xgb.feature_importances_\n",
    "for i,v in enumerate(df_feature_importance):\n",
    "    print('(%2d) Feature : %s, %5f' %(i, feature_name_list[i], v))\n",
    "#각 특성을 확률값이 큰 순서로 정렬\n",
    "df_importance = pd.DataFrame({'feature' : x_train.columns, 'importance' : xgb.feature_importances_})\n",
    "df_importance = df_importance.sort_values(by='importance', ascending=False)\n",
    "df_importance.head(10)"
   ]
  },
  {
   "cell_type": "code",
   "execution_count": 34,
   "metadata": {},
   "outputs": [],
   "source": [
    "del xgb, x_train, y_train, x_test, y_test"
   ]
  },
  {
   "cell_type": "code",
   "execution_count": 35,
   "metadata": {},
   "outputs": [],
   "source": [
    "#이번에는 learning_rate를 0.7로 설정하여 가중치를 더 많이 반영해보자"
   ]
  },
  {
   "cell_type": "code",
   "execution_count": 36,
   "metadata": {},
   "outputs": [
    {
     "name": "stderr",
     "output_type": "stream",
     "text": [
      "c:\\users\\hwan\\appdata\\local\\programs\\python\\python36\\lib\\site-packages\\xgboost\\sklearn.py:888: UserWarning: The use of label encoder in XGBClassifier is deprecated and will be removed in a future release. To remove this warning, do the following: 1) Pass option use_label_encoder=False when constructing XGBClassifier object; and 2) Encode your labels (y) as integers starting with 0, i.e. 0, 1, 2, ..., [num_class - 1].\n",
      "  warnings.warn(label_encoder_deprecation_msg, UserWarning)\n"
     ]
    },
    {
     "name": "stdout",
     "output_type": "stream",
     "text": [
      "[17:57:42] WARNING: C:/Users/Administrator/workspace/xgboost-win64_release_1.3.0/src/learner.cc:541: \n",
      "Parameters: { n_estinators } might not be used.\n",
      "\n",
      "  This may not be accurate due to some parameters are only used in language bindings but\n",
      "  passed down to XGBoost core.  Or some parameters are not used but slip through this\n",
      "  verification. Please open an issue if you find above cases.\n",
      "\n",
      "\n",
      "[17:57:42] WARNING: C:/Users/Administrator/workspace/xgboost-win64_release_1.3.0/src/learner.cc:1061: Starting in XGBoost 1.3.0, the default evaluation metric used with the objective 'binary:logistic' was changed from 'error' to 'logloss'. Explicitly set eval_metric if you'd like to restore the old behavior.\n",
      "테스트 셋 정확도: 0.9285\n",
      "훈련 셋 정확도: 0.9509\n"
     ]
    }
   ],
   "source": [
    "# 훈련, 테스트 셋 분리\n",
    "# test_size=0.3으로 설정하여 훈련:테스트 비율을 7:3으로\n",
    "x_train, x_test, y_train, y_test = train_test_split(x, y, test_size=0.3, random_state=42)\n",
    "\n",
    "# n_estinators매개변수로 군집수를 100으로 설정\n",
    "#learning_rate를 0.7로 설정\n",
    "xgb = XGBClassifier(n_estinators=100, learning_rate=0.7) # xgboost 모델 생성\n",
    "xgb = xgb.fit(x_train, y_train)\n",
    "\n",
    "# 테스트 셋 정확도 \n",
    "accuracy = float(xgb.score(x_test, y_test))\n",
    "print('테스트 셋 정확도: %.4f' %accuracy)\n",
    "\n",
    "# 훈련 셋 정확도 \n",
    "accuracy = float(xgb.score(x_train, y_train))\n",
    "print('훈련 셋 정확도: %.4f' %accuracy)"
   ]
  },
  {
   "cell_type": "code",
   "execution_count": 37,
   "metadata": {},
   "outputs": [],
   "source": [
    "#기존에 비해 테스트셋 정확도는 1% 감소하고 훈련셋 정확도는 2% 증가하였다"
   ]
  },
  {
   "cell_type": "code",
   "execution_count": 38,
   "metadata": {},
   "outputs": [
    {
     "name": "stdout",
     "output_type": "stream",
     "text": [
      "( 0) Feature : 연령, 0.034807\n",
      "( 1) Feature : 신장, 0.552673\n",
      "( 2) Feature : 체중, 0.013454\n",
      "( 3) Feature : 허리둘레, 0.022037\n",
      "( 4) Feature : 수축기혈압, 0.006062\n",
      "( 5) Feature : 이완기혈압, 0.005380\n",
      "( 6) Feature : 식전혈당, 0.004979\n",
      "( 7) Feature : 총콜레스테롤, 0.005748\n",
      "( 8) Feature : 흡연상태, 0.331559\n",
      "( 9) Feature : 음주여부, 0.023301\n"
     ]
    },
    {
     "data": {
      "text/html": [
       "<div>\n",
       "<style scoped>\n",
       "    .dataframe tbody tr th:only-of-type {\n",
       "        vertical-align: middle;\n",
       "    }\n",
       "\n",
       "    .dataframe tbody tr th {\n",
       "        vertical-align: top;\n",
       "    }\n",
       "\n",
       "    .dataframe thead th {\n",
       "        text-align: right;\n",
       "    }\n",
       "</style>\n",
       "<table border=\"1\" class=\"dataframe\">\n",
       "  <thead>\n",
       "    <tr style=\"text-align: right;\">\n",
       "      <th></th>\n",
       "      <th>feature</th>\n",
       "      <th>importance</th>\n",
       "    </tr>\n",
       "  </thead>\n",
       "  <tbody>\n",
       "    <tr>\n",
       "      <th>1</th>\n",
       "      <td>신장</td>\n",
       "      <td>0.552673</td>\n",
       "    </tr>\n",
       "    <tr>\n",
       "      <th>8</th>\n",
       "      <td>흡연상태</td>\n",
       "      <td>0.331559</td>\n",
       "    </tr>\n",
       "    <tr>\n",
       "      <th>0</th>\n",
       "      <td>연령</td>\n",
       "      <td>0.034807</td>\n",
       "    </tr>\n",
       "    <tr>\n",
       "      <th>9</th>\n",
       "      <td>음주여부</td>\n",
       "      <td>0.023301</td>\n",
       "    </tr>\n",
       "    <tr>\n",
       "      <th>3</th>\n",
       "      <td>허리둘레</td>\n",
       "      <td>0.022037</td>\n",
       "    </tr>\n",
       "    <tr>\n",
       "      <th>2</th>\n",
       "      <td>체중</td>\n",
       "      <td>0.013454</td>\n",
       "    </tr>\n",
       "    <tr>\n",
       "      <th>4</th>\n",
       "      <td>수축기혈압</td>\n",
       "      <td>0.006062</td>\n",
       "    </tr>\n",
       "    <tr>\n",
       "      <th>7</th>\n",
       "      <td>총콜레스테롤</td>\n",
       "      <td>0.005748</td>\n",
       "    </tr>\n",
       "    <tr>\n",
       "      <th>5</th>\n",
       "      <td>이완기혈압</td>\n",
       "      <td>0.005380</td>\n",
       "    </tr>\n",
       "    <tr>\n",
       "      <th>6</th>\n",
       "      <td>식전혈당</td>\n",
       "      <td>0.004979</td>\n",
       "    </tr>\n",
       "  </tbody>\n",
       "</table>\n",
       "</div>"
      ],
      "text/plain": [
       "  feature  importance\n",
       "1      신장    0.552673\n",
       "8    흡연상태    0.331559\n",
       "0      연령    0.034807\n",
       "9    음주여부    0.023301\n",
       "3    허리둘레    0.022037\n",
       "2      체중    0.013454\n",
       "4   수축기혈압    0.006062\n",
       "7  총콜레스테롤    0.005748\n",
       "5   이완기혈압    0.005380\n",
       "6    식전혈당    0.004979"
      ]
     },
     "execution_count": 38,
     "metadata": {},
     "output_type": "execute_result"
    }
   ],
   "source": [
    "# 각 특성별 확률값(중요도) 출력\n",
    "feature_name_list = x_train.columns\n",
    "df_feature_importance = xgb.feature_importances_\n",
    "for i,v in enumerate(df_feature_importance):\n",
    "    print('(%2d) Feature : %s, %5f' %(i, feature_name_list[i], v))\n",
    "#각 특성을 확률값이 큰 순서로 정렬\n",
    "df_importance = pd.DataFrame({'feature' : x_train.columns, 'importance' : xgb.feature_importances_})\n",
    "df_importance = df_importance.sort_values(by='importance', ascending=False)\n",
    "df_importance.head(10)"
   ]
  },
  {
   "cell_type": "code",
   "execution_count": 39,
   "metadata": {},
   "outputs": [],
   "source": [
    "# 기존에 비해 연령 등의 요소 확률값이 증가하였다"
   ]
  },
  {
   "cell_type": "code",
   "execution_count": 40,
   "metadata": {},
   "outputs": [],
   "source": [
    "del xgb, x_train, y_train, x_test, y_test"
   ]
  },
  {
   "cell_type": "code",
   "execution_count": 42,
   "metadata": {},
   "outputs": [],
   "source": [
    "del df_source"
   ]
  },
  {
   "cell_type": "code",
   "execution_count": null,
   "metadata": {},
   "outputs": [],
   "source": []
  }
 ],
 "metadata": {
  "kernelspec": {
   "display_name": "Python 3",
   "language": "python",
   "name": "python3"
  },
  "language_info": {
   "codemirror_mode": {
    "name": "ipython",
    "version": 3
   },
   "file_extension": ".py",
   "mimetype": "text/x-python",
   "name": "python",
   "nbconvert_exporter": "python",
   "pygments_lexer": "ipython3",
   "version": "3.6.7"
  }
 },
 "nbformat": 4,
 "nbformat_minor": 4
}
